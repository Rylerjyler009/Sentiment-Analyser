{
 "cells": [
  {
   "cell_type": "code",
   "execution_count": 3,
   "metadata": {},
   "outputs": [
    {
     "name": "stdout",
     "output_type": "stream",
     "text": [
      "Collecting transformers\n",
      "  Using cached transformers-4.41.2-py3-none-any.whl.metadata (43 kB)\n",
      "Requirement already satisfied: requests in c:\\users\\aman\\.conda\\envs\\pytorch\\lib\\site-packages (2.32.2)\n",
      "Collecting beautifulsoup4\n",
      "  Using cached beautifulsoup4-4.12.3-py3-none-any.whl.metadata (3.8 kB)\n",
      "Requirement already satisfied: filelock in c:\\users\\aman\\.conda\\envs\\pytorch\\lib\\site-packages (from transformers) (3.13.1)\n",
      "Collecting huggingface-hub<1.0,>=0.23.0 (from transformers)\n",
      "  Using cached huggingface_hub-0.23.4-py3-none-any.whl.metadata (12 kB)\n",
      "Requirement already satisfied: numpy>=1.17 in c:\\users\\aman\\.conda\\envs\\pytorch\\lib\\site-packages (from transformers) (1.24.3)\n",
      "Requirement already satisfied: packaging>=20.0 in c:\\users\\aman\\.conda\\envs\\pytorch\\lib\\site-packages (from transformers) (24.1)\n",
      "Requirement already satisfied: pyyaml>=5.1 in c:\\users\\aman\\.conda\\envs\\pytorch\\lib\\site-packages (from transformers) (6.0.1)\n",
      "Collecting regex!=2019.12.17 (from transformers)\n",
      "  Downloading regex-2024.5.15-cp311-cp311-win_amd64.whl.metadata (41 kB)\n",
      "     ---------------------------------------- 0.0/42.0 kB ? eta -:--:--\n",
      "     --------- ------------------------------ 10.2/42.0 kB ? eta -:--:--\n",
      "     -------------------------------------- 42.0/42.0 kB 503.7 kB/s eta 0:00:00\n",
      "Collecting tokenizers<0.20,>=0.19 (from transformers)\n",
      "  Downloading tokenizers-0.19.1-cp311-none-win_amd64.whl.metadata (6.9 kB)\n",
      "Collecting safetensors>=0.4.1 (from transformers)\n",
      "  Downloading safetensors-0.4.3-cp311-none-win_amd64.whl.metadata (3.9 kB)\n",
      "Collecting tqdm>=4.27 (from transformers)\n",
      "  Using cached tqdm-4.66.4-py3-none-any.whl.metadata (57 kB)\n",
      "Requirement already satisfied: charset-normalizer<4,>=2 in c:\\users\\aman\\.conda\\envs\\pytorch\\lib\\site-packages (from requests) (2.0.4)\n",
      "Requirement already satisfied: idna<4,>=2.5 in c:\\users\\aman\\.conda\\envs\\pytorch\\lib\\site-packages (from requests) (3.7)\n",
      "Requirement already satisfied: urllib3<3,>=1.21.1 in c:\\users\\aman\\.conda\\envs\\pytorch\\lib\\site-packages (from requests) (2.2.1)\n",
      "Requirement already satisfied: certifi>=2017.4.17 in c:\\users\\aman\\.conda\\envs\\pytorch\\lib\\site-packages (from requests) (2024.6.2)\n",
      "Collecting soupsieve>1.2 (from beautifulsoup4)\n",
      "  Using cached soupsieve-2.5-py3-none-any.whl.metadata (4.7 kB)\n",
      "Collecting fsspec>=2023.5.0 (from huggingface-hub<1.0,>=0.23.0->transformers)\n",
      "  Using cached fsspec-2024.6.0-py3-none-any.whl.metadata (11 kB)\n",
      "Requirement already satisfied: typing-extensions>=3.7.4.3 in c:\\users\\aman\\.conda\\envs\\pytorch\\lib\\site-packages (from huggingface-hub<1.0,>=0.23.0->transformers) (4.11.0)\n",
      "Requirement already satisfied: colorama in c:\\users\\aman\\.conda\\envs\\pytorch\\lib\\site-packages (from tqdm>=4.27->transformers) (0.4.6)\n",
      "Using cached transformers-4.41.2-py3-none-any.whl (9.1 MB)\n",
      "Using cached beautifulsoup4-4.12.3-py3-none-any.whl (147 kB)\n",
      "Using cached huggingface_hub-0.23.4-py3-none-any.whl (402 kB)\n",
      "Downloading regex-2024.5.15-cp311-cp311-win_amd64.whl (268 kB)\n",
      "   ---------------------------------------- 0.0/269.0 kB ? eta -:--:--\n",
      "   ------------ --------------------------- 81.9/269.0 kB 1.5 MB/s eta 0:00:01\n",
      "   ------------------------- -------------- 174.1/269.0 kB 2.1 MB/s eta 0:00:01\n",
      "   ------------------------------------ --- 245.8/269.0 kB 1.9 MB/s eta 0:00:01\n",
      "   ---------------------------------------- 269.0/269.0 kB 1.8 MB/s eta 0:00:00\n",
      "Downloading safetensors-0.4.3-cp311-none-win_amd64.whl (287 kB)\n",
      "   ---------------------------------------- 0.0/287.3 kB ? eta -:--:--\n",
      "   --------------- ------------------------ 112.6/287.3 kB 3.3 MB/s eta 0:00:01\n",
      "   --------------------------- ------------ 194.6/287.3 kB 2.9 MB/s eta 0:00:01\n",
      "   ---------------------------------------- 287.3/287.3 kB 2.5 MB/s eta 0:00:00\n",
      "Using cached soupsieve-2.5-py3-none-any.whl (36 kB)\n",
      "Downloading tokenizers-0.19.1-cp311-none-win_amd64.whl (2.2 MB)\n",
      "   ---------------------------------------- 0.0/2.2 MB ? eta -:--:--\n",
      "    --------------------------------------- 0.1/2.2 MB 1.3 MB/s eta 0:00:02\n",
      "   -- ------------------------------------- 0.2/2.2 MB 2.4 MB/s eta 0:00:01\n",
      "   ----- ---------------------------------- 0.3/2.2 MB 2.8 MB/s eta 0:00:01\n",
      "   ------ --------------------------------- 0.4/2.2 MB 2.5 MB/s eta 0:00:01\n",
      "   -------- ------------------------------- 0.5/2.2 MB 2.5 MB/s eta 0:00:01\n",
      "   ----------- ---------------------------- 0.6/2.2 MB 2.5 MB/s eta 0:00:01\n",
      "   ------------- -------------------------- 0.7/2.2 MB 2.4 MB/s eta 0:00:01\n",
      "   -------------- ------------------------- 0.8/2.2 MB 2.5 MB/s eta 0:00:01\n",
      "   ----------------- ---------------------- 1.0/2.2 MB 2.5 MB/s eta 0:00:01\n",
      "   ------------------- -------------------- 1.1/2.2 MB 2.5 MB/s eta 0:00:01\n",
      "   --------------------- ------------------ 1.2/2.2 MB 2.5 MB/s eta 0:00:01\n",
      "   ---------------------- ----------------- 1.2/2.2 MB 2.5 MB/s eta 0:00:01\n",
      "   ------------------------- -------------- 1.4/2.2 MB 2.5 MB/s eta 0:00:01\n",
      "   --------------------------- ------------ 1.5/2.2 MB 2.5 MB/s eta 0:00:01\n",
      "   ---------------------------- ----------- 1.6/2.2 MB 2.5 MB/s eta 0:00:01\n",
      "   ---------------------------- ----------- 1.6/2.2 MB 2.3 MB/s eta 0:00:01\n",
      "   ----------------------------- ---------- 1.7/2.2 MB 2.2 MB/s eta 0:00:01\n",
      "   ------------------------------ --------- 1.7/2.2 MB 2.1 MB/s eta 0:00:01\n",
      "   ------------------------------ --------- 1.7/2.2 MB 2.1 MB/s eta 0:00:01\n",
      "   -------------------------------- ------- 1.8/2.2 MB 2.0 MB/s eta 0:00:01\n",
      "   --------------------------------- ------ 1.9/2.2 MB 2.0 MB/s eta 0:00:01\n",
      "   ---------------------------------- ----- 1.9/2.2 MB 1.9 MB/s eta 0:00:01\n",
      "   ----------------------------------- ---- 2.0/2.2 MB 1.9 MB/s eta 0:00:01\n",
      "   ------------------------------------ --- 2.0/2.2 MB 1.9 MB/s eta 0:00:01\n",
      "   ------------------------------------- -- 2.1/2.2 MB 1.9 MB/s eta 0:00:01\n",
      "   -------------------------------------- - 2.2/2.2 MB 1.9 MB/s eta 0:00:01\n",
      "   ---------------------------------------  2.2/2.2 MB 1.8 MB/s eta 0:00:01\n",
      "   ---------------------------------------  2.2/2.2 MB 1.8 MB/s eta 0:00:01\n",
      "   ---------------------------------------- 2.2/2.2 MB 1.7 MB/s eta 0:00:00\n",
      "Using cached tqdm-4.66.4-py3-none-any.whl (78 kB)\n",
      "Using cached fsspec-2024.6.0-py3-none-any.whl (176 kB)\n",
      "Installing collected packages: tqdm, soupsieve, safetensors, regex, fsspec, huggingface-hub, beautifulsoup4, tokenizers, transformers\n",
      "Successfully installed beautifulsoup4-4.12.3 fsspec-2024.6.0 huggingface-hub-0.23.4 regex-2024.5.15 safetensors-0.4.3 soupsieve-2.5 tokenizers-0.19.1 tqdm-4.66.4 transformers-4.41.2\n"
     ]
    },
    {
     "name": "stderr",
     "output_type": "stream",
     "text": [
      "ERROR: pip's dependency resolver does not currently take into account all the packages that are installed. This behaviour is the source of the following dependency conflicts.\n",
      "torch 2.3.1 requires mkl<=2021.4.0,>=2021.1.1; platform_system == \"Windows\", which is not installed.\n"
     ]
    }
   ],
   "source": [
    "!pip install transformers requests beautifulsoup4 "
   ]
  },
  {
   "cell_type": "code",
   "execution_count": 2,
   "metadata": {},
   "outputs": [
    {
     "name": "stderr",
     "output_type": "stream",
     "text": [
      "c:\\Users\\Aman\\.conda\\envs\\pytorch\\Lib\\site-packages\\tqdm\\auto.py:21: TqdmWarning: IProgress not found. Please update jupyter and ipywidgets. See https://ipywidgets.readthedocs.io/en/stable/user_install.html\n",
      "  from .autonotebook import tqdm as notebook_tqdm\n"
     ]
    }
   ],
   "source": [
    "from transformers import AutoTokenizer, AutoModelForSequenceClassification\n",
    "import torch\n",
    "import requests\n",
    "from bs4 import BeautifulSoup\n",
    "import re"
   ]
  },
  {
   "cell_type": "code",
   "execution_count": 3,
   "metadata": {},
   "outputs": [],
   "source": [
    "tokenizer= AutoTokenizer.from_pretrained('nlptown/bert-base-multilingual-uncased-sentiment')\n",
    "model=AutoModelForSequenceClassification.from_pretrained('nlptown/bert-base-multilingual-uncased-sentiment')"
   ]
  },
  {
   "cell_type": "code",
   "execution_count": 49,
   "metadata": {},
   "outputs": [],
   "source": [
    "tokens=tokenizer.encode('It was awesome but could have been more satisfying.', return_tensors='pt')\n"
   ]
  },
  {
   "cell_type": "code",
   "execution_count": 40,
   "metadata": {},
   "outputs": [
    {
     "data": {
      "text/plain": [
       "tensor([  101,   151, 10345,   143, 14628, 11633,   106,   102])"
      ]
     },
     "execution_count": 40,
     "metadata": {},
     "output_type": "execute_result"
    }
   ],
   "source": [
    "tokens[0]"
   ]
  },
  {
   "cell_type": "code",
   "execution_count": 41,
   "metadata": {},
   "outputs": [
    {
     "data": {
      "text/plain": [
       "'[CLS] i am a sadist! [SEP]'"
      ]
     },
     "execution_count": 41,
     "metadata": {},
     "output_type": "execute_result"
    }
   ],
   "source": [
    "tokenizer.decode(tokens[0])"
   ]
  },
  {
   "cell_type": "code",
   "execution_count": 50,
   "metadata": {},
   "outputs": [],
   "source": [
    "result=model(tokens)"
   ]
  },
  {
   "cell_type": "code",
   "execution_count": 51,
   "metadata": {},
   "outputs": [
    {
     "data": {
      "text/plain": [
       "tensor([[-2.7282, -1.1212,  1.5814,  1.9052,  0.2150]],\n",
       "       grad_fn=<AddmmBackward0>)"
      ]
     },
     "execution_count": 51,
     "metadata": {},
     "output_type": "execute_result"
    }
   ],
   "source": [
    "result.logits"
   ]
  },
  {
   "cell_type": "code",
   "execution_count": 52,
   "metadata": {},
   "outputs": [
    {
     "data": {
      "text/plain": [
       "4"
      ]
     },
     "execution_count": 52,
     "metadata": {},
     "output_type": "execute_result"
    }
   ],
   "source": [
    "int(torch.argmax(result.logits))+1"
   ]
  },
  {
   "cell_type": "code",
   "execution_count": 4,
   "metadata": {},
   "outputs": [],
   "source": [
    "r=requests.get('https://www.imdb.com/title/tt27470893/reviews')\n",
    "soup=BeautifulSoup(r.text, 'html.parser')\n",
    "regex=re.compile('.*text show-more__control.*')\n",
    "results=soup.find_all('div', {'class':regex})\n",
    "reviews=[result.text for result in results]"
   ]
  },
  {
   "cell_type": "code",
   "execution_count": 5,
   "metadata": {},
   "outputs": [
    {
     "data": {
      "text/plain": [
       "'I recently watched \"Chandu Champion\" and I absolutely loved it! This film is a remarkable portrayal of a real-life hero and it left a lasting impression on me.The movie tells the incredible true story of Murlikant Petkar, a parathlete who overcame immense obstacles to become India\\'s first Paralympic gold medalist. The narrative is deeply inspiring, shedding light on the triumph of the human spirit and the power of perseverance.The performances in the film were outstanding. The lead actor, Kartik Aaryan, delivered a powerful and moving performance as Murlikant Petkar. His portrayal was nuanced and heartfelt, capturing the essence of Petkar\\'s struggles and victories with great authenticity. The supporting cast also did an excellent job, adding depth and richness to the story.A special mention must go to the director, Kabir Khan, who brought this inspiring story to life with such skill and sensitivity. The direction was masterful, balancing emotional depth with engaging storytelling. The director\\'s vision and dedication to telling this important story are evident in every frame.\"Chandu Champion\" is a very good real story that needs to be seen by everyone. It\\'s a film that not only entertains but also educates and inspires. If you haven\\'t seen it yet, I highly recommend you do. It\\'s a testament to the strength of the human spirit and a celebration of an unsung hero who made history.'"
      ]
     },
     "execution_count": 5,
     "metadata": {},
     "output_type": "execute_result"
    }
   ],
   "source": [
    "reviews[0]"
   ]
  },
  {
   "cell_type": "code",
   "execution_count": 59,
   "metadata": {},
   "outputs": [
    {
     "name": "stdout",
     "output_type": "stream",
     "text": [
      "Collecting pandas\n",
      "  Downloading pandas-2.2.2-cp311-cp311-win_amd64.whl.metadata (19 kB)\n",
      "Requirement already satisfied: numpy>=1.23.2 in c:\\users\\aman\\.conda\\envs\\pytorch\\lib\\site-packages (from pandas) (1.24.3)\n",
      "Requirement already satisfied: python-dateutil>=2.8.2 in c:\\users\\aman\\.conda\\envs\\pytorch\\lib\\site-packages (from pandas) (2.9.0)\n",
      "Collecting pytz>=2020.1 (from pandas)\n",
      "  Using cached pytz-2024.1-py2.py3-none-any.whl.metadata (22 kB)\n",
      "Collecting tzdata>=2022.7 (from pandas)\n",
      "  Using cached tzdata-2024.1-py2.py3-none-any.whl.metadata (1.4 kB)\n",
      "Requirement already satisfied: six>=1.5 in c:\\users\\aman\\.conda\\envs\\pytorch\\lib\\site-packages (from python-dateutil>=2.8.2->pandas) (1.16.0)\n",
      "Downloading pandas-2.2.2-cp311-cp311-win_amd64.whl (11.6 MB)\n",
      "   ---------------------------------------- 0.0/11.6 MB ? eta -:--:--\n",
      "   ---------------------------------------- 0.0/11.6 MB 1.4 MB/s eta 0:00:09\n",
      "   ---------------------------------------- 0.1/11.6 MB 1.2 MB/s eta 0:00:10\n",
      "   ---------------------------------------- 0.1/11.6 MB 1.0 MB/s eta 0:00:12\n",
      "    --------------------------------------- 0.2/11.6 MB 1.1 MB/s eta 0:00:11\n",
      "    --------------------------------------- 0.2/11.6 MB 1.1 MB/s eta 0:00:11\n",
      "    --------------------------------------- 0.3/11.6 MB 1.1 MB/s eta 0:00:11\n",
      "   - -------------------------------------- 0.3/11.6 MB 1.1 MB/s eta 0:00:11\n",
      "   - -------------------------------------- 0.4/11.6 MB 1.1 MB/s eta 0:00:11\n",
      "   - -------------------------------------- 0.4/11.6 MB 1.1 MB/s eta 0:00:11\n",
      "   - -------------------------------------- 0.5/11.6 MB 1.1 MB/s eta 0:00:11\n",
      "   - -------------------------------------- 0.6/11.6 MB 1.2 MB/s eta 0:00:10\n",
      "   -- ------------------------------------- 0.6/11.6 MB 1.3 MB/s eta 0:00:09\n",
      "   -- ------------------------------------- 0.6/11.6 MB 1.3 MB/s eta 0:00:09\n",
      "   -- ------------------------------------- 0.7/11.6 MB 1.2 MB/s eta 0:00:10\n",
      "   -- ------------------------------------- 0.7/11.6 MB 1.2 MB/s eta 0:00:10\n",
      "   -- ------------------------------------- 0.8/11.6 MB 1.2 MB/s eta 0:00:10\n",
      "   -- ------------------------------------- 0.9/11.6 MB 1.3 MB/s eta 0:00:09\n",
      "   --- ------------------------------------ 1.0/11.6 MB 1.3 MB/s eta 0:00:09\n",
      "   --- ------------------------------------ 1.1/11.6 MB 1.4 MB/s eta 0:00:08\n",
      "   ---- ----------------------------------- 1.2/11.6 MB 1.4 MB/s eta 0:00:08\n",
      "   ---- ----------------------------------- 1.2/11.6 MB 1.5 MB/s eta 0:00:08\n",
      "   ---- ----------------------------------- 1.3/11.6 MB 1.5 MB/s eta 0:00:08\n",
      "   ---- ----------------------------------- 1.4/11.6 MB 1.4 MB/s eta 0:00:08\n",
      "   ----- ---------------------------------- 1.5/11.6 MB 1.5 MB/s eta 0:00:07\n",
      "   ----- ---------------------------------- 1.6/11.6 MB 1.5 MB/s eta 0:00:07\n",
      "   ----- ---------------------------------- 1.7/11.6 MB 1.6 MB/s eta 0:00:07\n",
      "   ------ --------------------------------- 1.8/11.6 MB 1.6 MB/s eta 0:00:07\n",
      "   ------ --------------------------------- 1.8/11.6 MB 1.6 MB/s eta 0:00:07\n",
      "   ------ --------------------------------- 1.9/11.6 MB 1.6 MB/s eta 0:00:07\n",
      "   ------ --------------------------------- 2.0/11.6 MB 1.6 MB/s eta 0:00:07\n",
      "   ------ --------------------------------- 2.0/11.6 MB 1.6 MB/s eta 0:00:07\n",
      "   ------ --------------------------------- 2.0/11.6 MB 1.5 MB/s eta 0:00:07\n",
      "   ------- -------------------------------- 2.1/11.6 MB 1.5 MB/s eta 0:00:07\n",
      "   ------- -------------------------------- 2.1/11.6 MB 1.5 MB/s eta 0:00:07\n",
      "   ------- -------------------------------- 2.2/11.6 MB 1.5 MB/s eta 0:00:07\n",
      "   ------- -------------------------------- 2.2/11.6 MB 1.5 MB/s eta 0:00:07\n",
      "   ------- -------------------------------- 2.3/11.6 MB 1.5 MB/s eta 0:00:07\n",
      "   ------- -------------------------------- 2.3/11.6 MB 1.4 MB/s eta 0:00:07\n",
      "   -------- ------------------------------- 2.4/11.6 MB 1.4 MB/s eta 0:00:07\n",
      "   -------- ------------------------------- 2.4/11.6 MB 1.4 MB/s eta 0:00:07\n",
      "   -------- ------------------------------- 2.4/11.6 MB 1.4 MB/s eta 0:00:07\n",
      "   -------- ------------------------------- 2.5/11.6 MB 1.4 MB/s eta 0:00:07\n",
      "   -------- ------------------------------- 2.5/11.6 MB 1.4 MB/s eta 0:00:07\n",
      "   -------- ------------------------------- 2.6/11.6 MB 1.4 MB/s eta 0:00:07\n",
      "   --------- ------------------------------ 2.6/11.6 MB 1.4 MB/s eta 0:00:07\n",
      "   --------- ------------------------------ 2.7/11.6 MB 1.4 MB/s eta 0:00:07\n",
      "   --------- ------------------------------ 2.8/11.6 MB 1.4 MB/s eta 0:00:07\n",
      "   --------- ------------------------------ 2.8/11.6 MB 1.4 MB/s eta 0:00:07\n",
      "   --------- ------------------------------ 2.8/11.6 MB 1.4 MB/s eta 0:00:07\n",
      "   --------- ------------------------------ 2.9/11.6 MB 1.4 MB/s eta 0:00:07\n",
      "   ---------- ----------------------------- 3.0/11.6 MB 1.4 MB/s eta 0:00:07\n",
      "   ---------- ----------------------------- 3.1/11.6 MB 1.4 MB/s eta 0:00:07\n",
      "   ---------- ----------------------------- 3.1/11.6 MB 1.4 MB/s eta 0:00:07\n",
      "   ---------- ----------------------------- 3.2/11.6 MB 1.4 MB/s eta 0:00:07\n",
      "   ----------- ---------------------------- 3.2/11.6 MB 1.4 MB/s eta 0:00:07\n",
      "   ----------- ---------------------------- 3.2/11.6 MB 1.4 MB/s eta 0:00:07\n",
      "   ----------- ---------------------------- 3.3/11.6 MB 1.4 MB/s eta 0:00:07\n",
      "   ----------- ---------------------------- 3.3/11.6 MB 1.4 MB/s eta 0:00:07\n",
      "   ----------- ---------------------------- 3.4/11.6 MB 1.4 MB/s eta 0:00:07\n",
      "   ----------- ---------------------------- 3.4/11.6 MB 1.4 MB/s eta 0:00:07\n",
      "   ----------- ---------------------------- 3.5/11.6 MB 1.3 MB/s eta 0:00:07\n",
      "   ----------- ---------------------------- 3.5/11.6 MB 1.3 MB/s eta 0:00:07\n",
      "   ------------ --------------------------- 3.5/11.6 MB 1.3 MB/s eta 0:00:07\n",
      "   ------------ --------------------------- 3.5/11.6 MB 1.3 MB/s eta 0:00:07\n",
      "   ------------ --------------------------- 3.6/11.6 MB 1.3 MB/s eta 0:00:07\n",
      "   ------------ --------------------------- 3.6/11.6 MB 1.3 MB/s eta 0:00:07\n",
      "   ------------ --------------------------- 3.6/11.6 MB 1.3 MB/s eta 0:00:07\n",
      "   ------------ --------------------------- 3.6/11.6 MB 1.3 MB/s eta 0:00:07\n",
      "   ------------ --------------------------- 3.7/11.6 MB 1.3 MB/s eta 0:00:07\n",
      "   ------------ --------------------------- 3.7/11.6 MB 1.3 MB/s eta 0:00:07\n",
      "   ------------ --------------------------- 3.8/11.6 MB 1.3 MB/s eta 0:00:07\n",
      "   ------------- -------------------------- 3.8/11.6 MB 1.3 MB/s eta 0:00:07\n",
      "   ------------- -------------------------- 3.8/11.6 MB 1.2 MB/s eta 0:00:07\n",
      "   ------------- -------------------------- 3.9/11.6 MB 1.2 MB/s eta 0:00:07\n",
      "   ------------- -------------------------- 3.9/11.6 MB 1.2 MB/s eta 0:00:07\n",
      "   ------------- -------------------------- 3.9/11.6 MB 1.2 MB/s eta 0:00:07\n",
      "   ------------- -------------------------- 3.9/11.6 MB 1.2 MB/s eta 0:00:07\n",
      "   ------------- -------------------------- 3.9/11.6 MB 1.2 MB/s eta 0:00:07\n",
      "   ------------- -------------------------- 4.0/11.6 MB 1.2 MB/s eta 0:00:07\n",
      "   ------------- -------------------------- 4.0/11.6 MB 1.2 MB/s eta 0:00:07\n",
      "   ------------- -------------------------- 4.0/11.6 MB 1.2 MB/s eta 0:00:07\n",
      "   ------------- -------------------------- 4.0/11.6 MB 1.2 MB/s eta 0:00:07\n",
      "   -------------- ------------------------- 4.1/11.6 MB 1.2 MB/s eta 0:00:07\n",
      "   -------------- ------------------------- 4.1/11.6 MB 1.2 MB/s eta 0:00:07\n",
      "   -------------- ------------------------- 4.1/11.6 MB 1.2 MB/s eta 0:00:07\n",
      "   -------------- ------------------------- 4.2/11.6 MB 1.2 MB/s eta 0:00:07\n",
      "   -------------- ------------------------- 4.2/11.6 MB 1.2 MB/s eta 0:00:07\n",
      "   -------------- ------------------------- 4.3/11.6 MB 1.2 MB/s eta 0:00:07\n",
      "   -------------- ------------------------- 4.3/11.6 MB 1.2 MB/s eta 0:00:07\n",
      "   -------------- ------------------------- 4.4/11.6 MB 1.2 MB/s eta 0:00:07\n",
      "   --------------- ------------------------ 4.4/11.6 MB 1.1 MB/s eta 0:00:07\n",
      "   --------------- ------------------------ 4.4/11.6 MB 1.1 MB/s eta 0:00:07\n",
      "   --------------- ------------------------ 4.5/11.6 MB 1.1 MB/s eta 0:00:07\n",
      "   --------------- ------------------------ 4.5/11.6 MB 1.1 MB/s eta 0:00:07\n",
      "   --------------- ------------------------ 4.6/11.6 MB 1.1 MB/s eta 0:00:07\n",
      "   --------------- ------------------------ 4.6/11.6 MB 1.1 MB/s eta 0:00:07\n",
      "   --------------- ------------------------ 4.6/11.6 MB 1.1 MB/s eta 0:00:07\n",
      "   ---------------- ----------------------- 4.7/11.6 MB 1.1 MB/s eta 0:00:07\n",
      "   ---------------- ----------------------- 4.7/11.6 MB 1.1 MB/s eta 0:00:07\n",
      "   ---------------- ----------------------- 4.8/11.6 MB 1.1 MB/s eta 0:00:06\n",
      "   ---------------- ----------------------- 4.9/11.6 MB 1.2 MB/s eta 0:00:06\n",
      "   ----------------- ---------------------- 5.0/11.6 MB 1.2 MB/s eta 0:00:06\n",
      "   ----------------- ---------------------- 5.1/11.6 MB 1.2 MB/s eta 0:00:06\n",
      "   ----------------- ---------------------- 5.2/11.6 MB 1.2 MB/s eta 0:00:06\n",
      "   ----------------- ---------------------- 5.2/11.6 MB 1.2 MB/s eta 0:00:06\n",
      "   ------------------ --------------------- 5.3/11.6 MB 1.2 MB/s eta 0:00:06\n",
      "   ------------------ --------------------- 5.3/11.6 MB 1.2 MB/s eta 0:00:06\n",
      "   ------------------ --------------------- 5.4/11.6 MB 1.2 MB/s eta 0:00:06\n",
      "   ------------------ --------------------- 5.5/11.6 MB 1.2 MB/s eta 0:00:06\n",
      "   ------------------- -------------------- 5.6/11.6 MB 1.2 MB/s eta 0:00:05\n",
      "   ------------------- -------------------- 5.8/11.6 MB 1.2 MB/s eta 0:00:05\n",
      "   -------------------- ------------------- 5.9/11.6 MB 1.2 MB/s eta 0:00:05\n",
      "   -------------------- ------------------- 5.9/11.6 MB 1.2 MB/s eta 0:00:05\n",
      "   -------------------- ------------------- 6.1/11.6 MB 1.3 MB/s eta 0:00:05\n",
      "   --------------------- ------------------ 6.1/11.6 MB 1.3 MB/s eta 0:00:05\n",
      "   --------------------- ------------------ 6.3/11.6 MB 1.3 MB/s eta 0:00:05\n",
      "   --------------------- ------------------ 6.3/11.6 MB 1.3 MB/s eta 0:00:05\n",
      "   --------------------- ------------------ 6.4/11.6 MB 1.3 MB/s eta 0:00:05\n",
      "   ---------------------- ----------------- 6.4/11.6 MB 1.3 MB/s eta 0:00:05\n",
      "   ---------------------- ----------------- 6.5/11.6 MB 1.3 MB/s eta 0:00:04\n",
      "   ---------------------- ----------------- 6.6/11.6 MB 1.3 MB/s eta 0:00:04\n",
      "   ---------------------- ----------------- 6.7/11.6 MB 1.3 MB/s eta 0:00:04\n",
      "   ----------------------- ---------------- 6.7/11.6 MB 1.3 MB/s eta 0:00:04\n",
      "   ----------------------- ---------------- 6.9/11.6 MB 1.3 MB/s eta 0:00:04\n",
      "   ----------------------- ---------------- 7.0/11.6 MB 1.3 MB/s eta 0:00:04\n",
      "   ------------------------ --------------- 7.1/11.6 MB 1.3 MB/s eta 0:00:04\n",
      "   ------------------------ --------------- 7.1/11.6 MB 1.3 MB/s eta 0:00:04\n",
      "   ------------------------ --------------- 7.1/11.6 MB 1.3 MB/s eta 0:00:04\n",
      "   ------------------------ --------------- 7.2/11.6 MB 1.3 MB/s eta 0:00:04\n",
      "   ------------------------ --------------- 7.2/11.6 MB 1.3 MB/s eta 0:00:04\n",
      "   ------------------------ --------------- 7.2/11.6 MB 1.3 MB/s eta 0:00:04\n",
      "   ------------------------ --------------- 7.3/11.6 MB 1.3 MB/s eta 0:00:04\n",
      "   ------------------------- -------------- 7.3/11.6 MB 1.3 MB/s eta 0:00:04\n",
      "   ------------------------- -------------- 7.3/11.6 MB 1.3 MB/s eta 0:00:04\n",
      "   ------------------------- -------------- 7.4/11.6 MB 1.3 MB/s eta 0:00:04\n",
      "   ------------------------- -------------- 7.4/11.6 MB 1.3 MB/s eta 0:00:04\n",
      "   ------------------------- -------------- 7.4/11.6 MB 1.3 MB/s eta 0:00:04\n",
      "   ------------------------- -------------- 7.5/11.6 MB 1.3 MB/s eta 0:00:04\n",
      "   ------------------------- -------------- 7.5/11.6 MB 1.3 MB/s eta 0:00:04\n",
      "   ------------------------- -------------- 7.6/11.6 MB 1.3 MB/s eta 0:00:04\n",
      "   -------------------------- ------------- 7.6/11.6 MB 1.3 MB/s eta 0:00:04\n",
      "   -------------------------- ------------- 7.6/11.6 MB 1.3 MB/s eta 0:00:04\n",
      "   -------------------------- ------------- 7.6/11.6 MB 1.3 MB/s eta 0:00:04\n",
      "   -------------------------- ------------- 7.6/11.6 MB 1.3 MB/s eta 0:00:04\n",
      "   -------------------------- ------------- 7.7/11.6 MB 1.3 MB/s eta 0:00:04\n",
      "   -------------------------- ------------- 7.7/11.6 MB 1.3 MB/s eta 0:00:04\n",
      "   -------------------------- ------------- 7.8/11.6 MB 1.2 MB/s eta 0:00:04\n",
      "   -------------------------- ------------- 7.8/11.6 MB 1.2 MB/s eta 0:00:04\n",
      "   --------------------------- ------------ 7.9/11.6 MB 1.2 MB/s eta 0:00:04\n",
      "   --------------------------- ------------ 7.9/11.6 MB 1.2 MB/s eta 0:00:04\n",
      "   --------------------------- ------------ 7.9/11.6 MB 1.2 MB/s eta 0:00:03\n",
      "   --------------------------- ------------ 8.0/11.6 MB 1.2 MB/s eta 0:00:03\n",
      "   --------------------------- ------------ 8.0/11.6 MB 1.2 MB/s eta 0:00:03\n",
      "   --------------------------- ------------ 8.1/11.6 MB 1.2 MB/s eta 0:00:03\n",
      "   --------------------------- ------------ 8.1/11.6 MB 1.2 MB/s eta 0:00:03\n",
      "   --------------------------- ------------ 8.1/11.6 MB 1.2 MB/s eta 0:00:03\n",
      "   ---------------------------- ----------- 8.2/11.6 MB 1.2 MB/s eta 0:00:03\n",
      "   ---------------------------- ----------- 8.2/11.6 MB 1.2 MB/s eta 0:00:03\n",
      "   ---------------------------- ----------- 8.3/11.6 MB 1.2 MB/s eta 0:00:03\n",
      "   ---------------------------- ----------- 8.3/11.6 MB 1.2 MB/s eta 0:00:03\n",
      "   ---------------------------- ----------- 8.4/11.6 MB 1.2 MB/s eta 0:00:03\n",
      "   ----------------------------- ---------- 8.4/11.6 MB 1.2 MB/s eta 0:00:03\n",
      "   ----------------------------- ---------- 8.5/11.6 MB 1.2 MB/s eta 0:00:03\n",
      "   ----------------------------- ---------- 8.6/11.6 MB 1.2 MB/s eta 0:00:03\n",
      "   ----------------------------- ---------- 8.6/11.6 MB 1.2 MB/s eta 0:00:03\n",
      "   ----------------------------- ---------- 8.6/11.6 MB 1.2 MB/s eta 0:00:03\n",
      "   ----------------------------- ---------- 8.7/11.6 MB 1.2 MB/s eta 0:00:03\n",
      "   ----------------------------- ---------- 8.7/11.6 MB 1.2 MB/s eta 0:00:03\n",
      "   ------------------------------ --------- 8.8/11.6 MB 1.2 MB/s eta 0:00:03\n",
      "   ------------------------------ --------- 8.8/11.6 MB 1.2 MB/s eta 0:00:03\n",
      "   ------------------------------ --------- 8.8/11.6 MB 1.2 MB/s eta 0:00:03\n",
      "   ------------------------------ --------- 8.9/11.6 MB 1.2 MB/s eta 0:00:03\n",
      "   ------------------------------ --------- 8.9/11.6 MB 1.2 MB/s eta 0:00:03\n",
      "   ------------------------------ --------- 8.9/11.6 MB 1.2 MB/s eta 0:00:03\n",
      "   ------------------------------ --------- 9.0/11.6 MB 1.2 MB/s eta 0:00:03\n",
      "   ------------------------------- -------- 9.0/11.6 MB 1.2 MB/s eta 0:00:03\n",
      "   ------------------------------- -------- 9.1/11.6 MB 1.2 MB/s eta 0:00:03\n",
      "   ------------------------------- -------- 9.2/11.6 MB 1.2 MB/s eta 0:00:03\n",
      "   ------------------------------- -------- 9.2/11.6 MB 1.2 MB/s eta 0:00:02\n",
      "   ------------------------------- -------- 9.3/11.6 MB 1.2 MB/s eta 0:00:02\n",
      "   -------------------------------- ------- 9.3/11.6 MB 1.2 MB/s eta 0:00:02\n",
      "   -------------------------------- ------- 9.4/11.6 MB 1.2 MB/s eta 0:00:02\n",
      "   -------------------------------- ------- 9.4/11.6 MB 1.2 MB/s eta 0:00:02\n",
      "   -------------------------------- ------- 9.5/11.6 MB 1.2 MB/s eta 0:00:02\n",
      "   -------------------------------- ------- 9.6/11.6 MB 1.2 MB/s eta 0:00:02\n",
      "   --------------------------------- ------ 9.6/11.6 MB 1.2 MB/s eta 0:00:02\n",
      "   --------------------------------- ------ 9.7/11.6 MB 1.2 MB/s eta 0:00:02\n",
      "   --------------------------------- ------ 9.7/11.6 MB 1.2 MB/s eta 0:00:02\n",
      "   --------------------------------- ------ 9.7/11.6 MB 1.2 MB/s eta 0:00:02\n",
      "   --------------------------------- ------ 9.8/11.6 MB 1.2 MB/s eta 0:00:02\n",
      "   --------------------------------- ------ 9.8/11.6 MB 1.2 MB/s eta 0:00:02\n",
      "   --------------------------------- ------ 9.8/11.6 MB 1.2 MB/s eta 0:00:02\n",
      "   --------------------------------- ------ 9.9/11.6 MB 1.2 MB/s eta 0:00:02\n",
      "   --------------------------------- ------ 9.9/11.6 MB 1.2 MB/s eta 0:00:02\n",
      "   ---------------------------------- ----- 9.9/11.6 MB 1.2 MB/s eta 0:00:02\n",
      "   ---------------------------------- ----- 9.9/11.6 MB 1.2 MB/s eta 0:00:02\n",
      "   ---------------------------------- ----- 10.0/11.6 MB 1.2 MB/s eta 0:00:02\n",
      "   ---------------------------------- ----- 10.0/11.6 MB 1.2 MB/s eta 0:00:02\n",
      "   ---------------------------------- ----- 10.0/11.6 MB 1.2 MB/s eta 0:00:02\n",
      "   ---------------------------------- ----- 10.1/11.6 MB 1.2 MB/s eta 0:00:02\n",
      "   ---------------------------------- ----- 10.2/11.6 MB 1.2 MB/s eta 0:00:02\n",
      "   ----------------------------------- ---- 10.2/11.6 MB 1.2 MB/s eta 0:00:02\n",
      "   ----------------------------------- ---- 10.3/11.6 MB 1.2 MB/s eta 0:00:02\n",
      "   ----------------------------------- ---- 10.3/11.6 MB 1.2 MB/s eta 0:00:02\n",
      "   ----------------------------------- ---- 10.4/11.6 MB 1.2 MB/s eta 0:00:02\n",
      "   ----------------------------------- ---- 10.5/11.6 MB 1.2 MB/s eta 0:00:01\n",
      "   ------------------------------------ --- 10.5/11.6 MB 1.2 MB/s eta 0:00:01\n",
      "   ------------------------------------ --- 10.5/11.6 MB 1.2 MB/s eta 0:00:01\n",
      "   ------------------------------------ --- 10.6/11.6 MB 1.2 MB/s eta 0:00:01\n",
      "   ------------------------------------ --- 10.6/11.6 MB 1.2 MB/s eta 0:00:01\n",
      "   ------------------------------------ --- 10.6/11.6 MB 1.2 MB/s eta 0:00:01\n",
      "   ------------------------------------ --- 10.6/11.6 MB 1.2 MB/s eta 0:00:01\n",
      "   ------------------------------------ --- 10.7/11.6 MB 1.2 MB/s eta 0:00:01\n",
      "   ------------------------------------ --- 10.7/11.6 MB 1.2 MB/s eta 0:00:01\n",
      "   ------------------------------------ --- 10.7/11.6 MB 1.2 MB/s eta 0:00:01\n",
      "   ------------------------------------- -- 10.8/11.6 MB 1.2 MB/s eta 0:00:01\n",
      "   ------------------------------------- -- 10.8/11.6 MB 1.2 MB/s eta 0:00:01\n",
      "   ------------------------------------- -- 10.8/11.6 MB 1.2 MB/s eta 0:00:01\n",
      "   ------------------------------------- -- 10.9/11.6 MB 1.2 MB/s eta 0:00:01\n",
      "   ------------------------------------- -- 10.9/11.6 MB 1.2 MB/s eta 0:00:01\n",
      "   ------------------------------------- -- 10.9/11.6 MB 1.2 MB/s eta 0:00:01\n",
      "   ------------------------------------- -- 10.9/11.6 MB 1.2 MB/s eta 0:00:01\n",
      "   ------------------------------------- -- 11.0/11.6 MB 1.2 MB/s eta 0:00:01\n",
      "   ------------------------------------- -- 11.0/11.6 MB 1.2 MB/s eta 0:00:01\n",
      "   ------------------------------------- -- 11.0/11.6 MB 1.2 MB/s eta 0:00:01\n",
      "   ------------------------------------- -- 11.0/11.6 MB 1.2 MB/s eta 0:00:01\n",
      "   -------------------------------------- - 11.1/11.6 MB 1.2 MB/s eta 0:00:01\n",
      "   -------------------------------------- - 11.1/11.6 MB 1.2 MB/s eta 0:00:01\n",
      "   -------------------------------------- - 11.2/11.6 MB 1.2 MB/s eta 0:00:01\n",
      "   -------------------------------------- - 11.2/11.6 MB 1.1 MB/s eta 0:00:01\n",
      "   -------------------------------------- - 11.2/11.6 MB 1.1 MB/s eta 0:00:01\n",
      "   -------------------------------------- - 11.3/11.6 MB 1.1 MB/s eta 0:00:01\n",
      "   -------------------------------------- - 11.3/11.6 MB 1.1 MB/s eta 0:00:01\n",
      "   -------------------------------------- - 11.3/11.6 MB 1.1 MB/s eta 0:00:01\n",
      "   ---------------------------------------  11.4/11.6 MB 1.1 MB/s eta 0:00:01\n",
      "   ---------------------------------------  11.4/11.6 MB 1.1 MB/s eta 0:00:01\n",
      "   ---------------------------------------  11.4/11.6 MB 1.1 MB/s eta 0:00:01\n",
      "   ---------------------------------------  11.5/11.6 MB 1.1 MB/s eta 0:00:01\n",
      "   ---------------------------------------  11.5/11.6 MB 1.1 MB/s eta 0:00:01\n",
      "   ---------------------------------------  11.5/11.6 MB 1.1 MB/s eta 0:00:01\n",
      "   ---------------------------------------  11.5/11.6 MB 1.1 MB/s eta 0:00:01\n",
      "   ---------------------------------------  11.6/11.6 MB 1.1 MB/s eta 0:00:01\n",
      "   ---------------------------------------  11.6/11.6 MB 1.1 MB/s eta 0:00:01\n",
      "   ---------------------------------------- 11.6/11.6 MB 1.1 MB/s eta 0:00:00\n",
      "Using cached pytz-2024.1-py2.py3-none-any.whl (505 kB)\n",
      "Using cached tzdata-2024.1-py2.py3-none-any.whl (345 kB)\n",
      "Installing collected packages: pytz, tzdata, pandas\n",
      "Successfully installed pandas-2.2.2 pytz-2024.1 tzdata-2024.1\n",
      "Note: you may need to restart the kernel to use updated packages.\n"
     ]
    }
   ],
   "source": [
    "pip install pandas"
   ]
  },
  {
   "cell_type": "code",
   "execution_count": 7,
   "metadata": {},
   "outputs": [],
   "source": [
    "import pandas as pd\n",
    "import numpy as np"
   ]
  },
  {
   "cell_type": "code",
   "execution_count": 8,
   "metadata": {},
   "outputs": [],
   "source": [
    "df=pd.DataFrame(np.array(reviews), columns=['review'])"
   ]
  },
  {
   "cell_type": "code",
   "execution_count": 9,
   "metadata": {},
   "outputs": [
    {
     "data": {
      "text/html": [
       "<div>\n",
       "<style scoped>\n",
       "    .dataframe tbody tr th:only-of-type {\n",
       "        vertical-align: middle;\n",
       "    }\n",
       "\n",
       "    .dataframe tbody tr th {\n",
       "        vertical-align: top;\n",
       "    }\n",
       "\n",
       "    .dataframe thead th {\n",
       "        text-align: right;\n",
       "    }\n",
       "</style>\n",
       "<table border=\"1\" class=\"dataframe\">\n",
       "  <thead>\n",
       "    <tr style=\"text-align: right;\">\n",
       "      <th></th>\n",
       "      <th>review</th>\n",
       "    </tr>\n",
       "  </thead>\n",
       "  <tbody>\n",
       "    <tr>\n",
       "      <th>20</th>\n",
       "      <td>I just saw Chandu Champion and it was good. Ge...</td>\n",
       "    </tr>\n",
       "    <tr>\n",
       "      <th>21</th>\n",
       "      <td>Murlikant Petkar is such a personality who onl...</td>\n",
       "    </tr>\n",
       "    <tr>\n",
       "      <th>22</th>\n",
       "      <td>This is such a great movie for Indians. I hope...</td>\n",
       "    </tr>\n",
       "    <tr>\n",
       "      <th>23</th>\n",
       "      <td>\"Chandu Champion\" is a heartwarming tale of Mu...</td>\n",
       "    </tr>\n",
       "    <tr>\n",
       "      <th>24</th>\n",
       "      <td>This story deserves to be heard, watched, and ...</td>\n",
       "    </tr>\n",
       "  </tbody>\n",
       "</table>\n",
       "</div>"
      ],
      "text/plain": [
       "                                               review\n",
       "20  I just saw Chandu Champion and it was good. Ge...\n",
       "21  Murlikant Petkar is such a personality who onl...\n",
       "22  This is such a great movie for Indians. I hope...\n",
       "23  \"Chandu Champion\" is a heartwarming tale of Mu...\n",
       "24  This story deserves to be heard, watched, and ..."
      ]
     },
     "execution_count": 9,
     "metadata": {},
     "output_type": "execute_result"
    }
   ],
   "source": [
    "df.tail()"
   ]
  },
  {
   "cell_type": "code",
   "execution_count": 10,
   "metadata": {},
   "outputs": [],
   "source": [
    "def senti_score(review):\n",
    "    tokens=tokenizer.encode(review, return_tensors='pt')\n",
    "    result=model(tokens)\n",
    "    return int(torch.argmax(result.logits))+1"
   ]
  },
  {
   "cell_type": "code",
   "execution_count": 11,
   "metadata": {},
   "outputs": [
    {
     "data": {
      "text/plain": [
       "4"
      ]
     },
     "execution_count": 11,
     "metadata": {},
     "output_type": "execute_result"
    }
   ],
   "source": [
    "senti_score(df['review'].iloc[9])"
   ]
  },
  {
   "cell_type": "code",
   "execution_count": 12,
   "metadata": {},
   "outputs": [],
   "source": [
    "df['sentiment']=df['review'].apply(lambda x: senti_score(x[:512]))  ## this transformer nlp model can only recognise first 512 characters\n"
   ]
  },
  {
   "cell_type": "code",
   "execution_count": 13,
   "metadata": {},
   "outputs": [
    {
     "data": {
      "text/html": [
       "<div>\n",
       "<style scoped>\n",
       "    .dataframe tbody tr th:only-of-type {\n",
       "        vertical-align: middle;\n",
       "    }\n",
       "\n",
       "    .dataframe tbody tr th {\n",
       "        vertical-align: top;\n",
       "    }\n",
       "\n",
       "    .dataframe thead th {\n",
       "        text-align: right;\n",
       "    }\n",
       "</style>\n",
       "<table border=\"1\" class=\"dataframe\">\n",
       "  <thead>\n",
       "    <tr style=\"text-align: right;\">\n",
       "      <th></th>\n",
       "      <th>review</th>\n",
       "      <th>sentiment</th>\n",
       "    </tr>\n",
       "  </thead>\n",
       "  <tbody>\n",
       "    <tr>\n",
       "      <th>0</th>\n",
       "      <td>I recently watched \"Chandu Champion\" and I abs...</td>\n",
       "      <td>5</td>\n",
       "    </tr>\n",
       "    <tr>\n",
       "      <th>1</th>\n",
       "      <td>This is one of the finest movies of Bollywood,...</td>\n",
       "      <td>5</td>\n",
       "    </tr>\n",
       "    <tr>\n",
       "      <th>2</th>\n",
       "      <td>It is not just a movie nor a documentary.Karti...</td>\n",
       "      <td>5</td>\n",
       "    </tr>\n",
       "    <tr>\n",
       "      <th>3</th>\n",
       "      <td>Guys please visit and watch the heartwarming m...</td>\n",
       "      <td>5</td>\n",
       "    </tr>\n",
       "    <tr>\n",
       "      <th>4</th>\n",
       "      <td>Chandu Champion,\" directed by Kabir Khan, is a...</td>\n",
       "      <td>5</td>\n",
       "    </tr>\n",
       "    <tr>\n",
       "      <th>5</th>\n",
       "      <td>I didn't go in the theatre with a lot of expec...</td>\n",
       "      <td>5</td>\n",
       "    </tr>\n",
       "    <tr>\n",
       "      <th>6</th>\n",
       "      <td>*** Chandu Champion Hindi Movie Review ***Dire...</td>\n",
       "      <td>4</td>\n",
       "    </tr>\n",
       "    <tr>\n",
       "      <th>7</th>\n",
       "      <td>\"Chandu Champion\" is a masterful blend of spor...</td>\n",
       "      <td>4</td>\n",
       "    </tr>\n",
       "    <tr>\n",
       "      <th>8</th>\n",
       "      <td>I genuinely urge you to catch this movie in th...</td>\n",
       "      <td>5</td>\n",
       "    </tr>\n",
       "    <tr>\n",
       "      <th>9</th>\n",
       "      <td>Powerfully story as it taken from a true story...</td>\n",
       "      <td>4</td>\n",
       "    </tr>\n",
       "    <tr>\n",
       "      <th>10</th>\n",
       "      <td>Just Watched Chandu Champion And Cant Tell You...</td>\n",
       "      <td>5</td>\n",
       "    </tr>\n",
       "    <tr>\n",
       "      <th>11</th>\n",
       "      <td>Chandu Champion (2024) :\\nMovie Review -Kartik...</td>\n",
       "      <td>3</td>\n",
       "    </tr>\n",
       "    <tr>\n",
       "      <th>12</th>\n",
       "      <td>What a amazing moving. Acting, direction, stor...</td>\n",
       "      <td>5</td>\n",
       "    </tr>\n",
       "    <tr>\n",
       "      <th>13</th>\n",
       "      <td>Chandu Champion is an inspiring and captivatin...</td>\n",
       "      <td>5</td>\n",
       "    </tr>\n",
       "    <tr>\n",
       "      <th>14</th>\n",
       "      <td>I had expectations from the film . From Kartik...</td>\n",
       "      <td>4</td>\n",
       "    </tr>\n",
       "    <tr>\n",
       "      <th>15</th>\n",
       "      <td>Tone, Script &amp; Story: The story is about a per...</td>\n",
       "      <td>3</td>\n",
       "    </tr>\n",
       "    <tr>\n",
       "      <th>16</th>\n",
       "      <td>\"Chandu Champion\" is a stirring cinematic port...</td>\n",
       "      <td>4</td>\n",
       "    </tr>\n",
       "    <tr>\n",
       "      <th>17</th>\n",
       "      <td>Finally Kartik Aaryan as an actor has come of ...</td>\n",
       "      <td>5</td>\n",
       "    </tr>\n",
       "    <tr>\n",
       "      <th>18</th>\n",
       "      <td>Watched Chandu champion after reading some goo...</td>\n",
       "      <td>5</td>\n",
       "    </tr>\n",
       "    <tr>\n",
       "      <th>19</th>\n",
       "      <td>A story of an unsung hero that captures the es...</td>\n",
       "      <td>4</td>\n",
       "    </tr>\n",
       "    <tr>\n",
       "      <th>20</th>\n",
       "      <td>I just saw Chandu Champion and it was good. Ge...</td>\n",
       "      <td>4</td>\n",
       "    </tr>\n",
       "    <tr>\n",
       "      <th>21</th>\n",
       "      <td>Murlikant Petkar is such a personality who onl...</td>\n",
       "      <td>5</td>\n",
       "    </tr>\n",
       "    <tr>\n",
       "      <th>22</th>\n",
       "      <td>This is such a great movie for Indians. I hope...</td>\n",
       "      <td>5</td>\n",
       "    </tr>\n",
       "    <tr>\n",
       "      <th>23</th>\n",
       "      <td>\"Chandu Champion\" is a heartwarming tale of Mu...</td>\n",
       "      <td>4</td>\n",
       "    </tr>\n",
       "    <tr>\n",
       "      <th>24</th>\n",
       "      <td>This story deserves to be heard, watched, and ...</td>\n",
       "      <td>5</td>\n",
       "    </tr>\n",
       "  </tbody>\n",
       "</table>\n",
       "</div>"
      ],
      "text/plain": [
       "                                               review  sentiment\n",
       "0   I recently watched \"Chandu Champion\" and I abs...          5\n",
       "1   This is one of the finest movies of Bollywood,...          5\n",
       "2   It is not just a movie nor a documentary.Karti...          5\n",
       "3   Guys please visit and watch the heartwarming m...          5\n",
       "4   Chandu Champion,\" directed by Kabir Khan, is a...          5\n",
       "5   I didn't go in the theatre with a lot of expec...          5\n",
       "6   *** Chandu Champion Hindi Movie Review ***Dire...          4\n",
       "7   \"Chandu Champion\" is a masterful blend of spor...          4\n",
       "8   I genuinely urge you to catch this movie in th...          5\n",
       "9   Powerfully story as it taken from a true story...          4\n",
       "10  Just Watched Chandu Champion And Cant Tell You...          5\n",
       "11  Chandu Champion (2024) :\\nMovie Review -Kartik...          3\n",
       "12  What a amazing moving. Acting, direction, stor...          5\n",
       "13  Chandu Champion is an inspiring and captivatin...          5\n",
       "14  I had expectations from the film . From Kartik...          4\n",
       "15  Tone, Script & Story: The story is about a per...          3\n",
       "16  \"Chandu Champion\" is a stirring cinematic port...          4\n",
       "17  Finally Kartik Aaryan as an actor has come of ...          5\n",
       "18  Watched Chandu champion after reading some goo...          5\n",
       "19  A story of an unsung hero that captures the es...          4\n",
       "20  I just saw Chandu Champion and it was good. Ge...          4\n",
       "21  Murlikant Petkar is such a personality who onl...          5\n",
       "22  This is such a great movie for Indians. I hope...          5\n",
       "23  \"Chandu Champion\" is a heartwarming tale of Mu...          4\n",
       "24  This story deserves to be heard, watched, and ...          5"
      ]
     },
     "execution_count": 13,
     "metadata": {},
     "output_type": "execute_result"
    }
   ],
   "source": [
    "df"
   ]
  },
  {
   "cell_type": "code",
   "execution_count": 17,
   "metadata": {},
   "outputs": [
    {
     "data": {
      "text/plain": [
       "\"I genuinely urge you to catch this movie in theaters for an incredible experience that promises not just entertainment but also profound inspiration and motivation. I attended the first-night show and was completely swept away-despite not shedding a tear all year, I found myself moved to tears four times during the film. It's a powerful story that touches the heart and soul, resonating deeply with its emotional depth and compelling narrative. The theater ambiance amplifies the emotions, making it a truly immersive and unforgettable cinematic journey. Don't miss out on this opportunity to be moved, inspired, and captivated by a film that delivers on every level.\""
      ]
     },
     "execution_count": 17,
     "metadata": {},
     "output_type": "execute_result"
    }
   ],
   "source": [
    "df['review'][8]"
   ]
  }
 ],
 "metadata": {
  "kernelspec": {
   "display_name": "Python 3",
   "language": "python",
   "name": "python3"
  },
  "language_info": {
   "codemirror_mode": {
    "name": "ipython",
    "version": 3
   },
   "file_extension": ".py",
   "mimetype": "text/x-python",
   "name": "python",
   "nbconvert_exporter": "python",
   "pygments_lexer": "ipython3",
   "version": "3.11.7"
  }
 },
 "nbformat": 4,
 "nbformat_minor": 2
}
